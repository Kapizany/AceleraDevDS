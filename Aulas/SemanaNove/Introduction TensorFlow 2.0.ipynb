{
 "cells": [
  {
   "cell_type": "markdown",
   "metadata": {
    "colab_type": "text",
    "id": "kqnQhKafgyZC"
   },
   "source": [
    "## TensorFlow 1.X"
   ]
  },
  {
   "cell_type": "markdown",
   "metadata": {
    "colab_type": "text",
    "id": "SiauG1locQIa"
   },
   "source": [
    "\n",
    "\n",
    "\n",
    "### Install TensorFlow 1.X\n",
    "\n"
   ]
  },
  {
   "cell_type": "code",
   "execution_count": 13,
   "metadata": {
    "colab": {
     "base_uri": "https://localhost:8080/",
     "height": 51
    },
    "colab_type": "code",
    "executionInfo": {
     "elapsed": 26803,
     "status": "ok",
     "timestamp": 1590068102924,
     "user": {
      "displayName": "Tulio Souza",
      "photoUrl": "https://lh3.googleusercontent.com/a-/AOh14GipEnrWu7E_9FYZPQv76QUWcv0HJUgE5zZFIPWJ=s64",
      "userId": "10580357254127821833"
     },
     "user_tz": 180
    },
    "id": "YT5aauwU8tKY",
    "outputId": "637681ee-0727-47b1-971c-29336496663a"
   },
   "outputs": [
    {
     "name": "stdout",
     "output_type": "stream",
     "text": [
      "Uninstalling tensorflow-2.2.0:\n",
      "  Successfully uninstalled tensorflow-2.2.0\n"
     ]
    }
   ],
   "source": [
    "!pip uninstall -y tensorflow "
   ]
  },
  {
   "cell_type": "code",
   "execution_count": 14,
   "metadata": {
    "colab": {
     "base_uri": "https://localhost:8080/",
     "height": 922
    },
    "colab_type": "code",
    "executionInfo": {
     "elapsed": 63750,
     "status": "ok",
     "timestamp": 1590068171532,
     "user": {
      "displayName": "Tulio Souza",
      "photoUrl": "https://lh3.googleusercontent.com/a-/AOh14GipEnrWu7E_9FYZPQv76QUWcv0HJUgE5zZFIPWJ=s64",
      "userId": "10580357254127821833"
     },
     "user_tz": 180
    },
    "id": "iVM4JRo8cJ0e",
    "outputId": "f8115a94-1831-4c93-deb9-2e3c15b38d2e"
   },
   "outputs": [
    {
     "name": "stdout",
     "output_type": "stream",
     "text": [
      "Collecting tensorflow-gpu==1.15\n",
      "\u001b[?25l  Downloading https://files.pythonhosted.org/packages/a5/ad/933140e74973fb917a194ab814785e7c23680ca5dee6d663a509fe9579b6/tensorflow_gpu-1.15.0-cp36-cp36m-manylinux2010_x86_64.whl (411.5MB)\n",
      "\u001b[K     |████████████████████████████████| 411.5MB 34kB/s \n",
      "\u001b[?25hCollecting tensorboard<1.16.0,>=1.15.0\n",
      "\u001b[?25l  Downloading https://files.pythonhosted.org/packages/1e/e9/d3d747a97f7188f48aa5eda486907f3b345cd409f0a0850468ba867db246/tensorboard-1.15.0-py3-none-any.whl (3.8MB)\n",
      "\u001b[K     |████████████████████████████████| 3.8MB 42.5MB/s \n",
      "\u001b[?25hRequirement already satisfied: google-pasta>=0.1.6 in /usr/local/lib/python3.6/dist-packages (from tensorflow-gpu==1.15) (0.2.0)\n",
      "Requirement already satisfied: opt-einsum>=2.3.2 in /usr/local/lib/python3.6/dist-packages (from tensorflow-gpu==1.15) (3.2.1)\n",
      "Collecting tensorflow-estimator==1.15.1\n",
      "\u001b[?25l  Downloading https://files.pythonhosted.org/packages/de/62/2ee9cd74c9fa2fa450877847ba560b260f5d0fb70ee0595203082dafcc9d/tensorflow_estimator-1.15.1-py2.py3-none-any.whl (503kB)\n",
      "\u001b[K     |████████████████████████████████| 512kB 44.7MB/s \n",
      "\u001b[?25hRequirement already satisfied: keras-applications>=1.0.8 in /usr/local/lib/python3.6/dist-packages (from tensorflow-gpu==1.15) (1.0.8)\n",
      "Requirement already satisfied: protobuf>=3.6.1 in /usr/local/lib/python3.6/dist-packages (from tensorflow-gpu==1.15) (3.10.0)\n",
      "Requirement already satisfied: termcolor>=1.1.0 in /usr/local/lib/python3.6/dist-packages (from tensorflow-gpu==1.15) (1.1.0)\n",
      "Requirement already satisfied: wheel>=0.26 in /usr/local/lib/python3.6/dist-packages (from tensorflow-gpu==1.15) (0.34.2)\n",
      "Requirement already satisfied: six>=1.10.0 in /usr/local/lib/python3.6/dist-packages (from tensorflow-gpu==1.15) (1.12.0)\n",
      "Requirement already satisfied: astor>=0.6.0 in /usr/local/lib/python3.6/dist-packages (from tensorflow-gpu==1.15) (0.8.1)\n",
      "Requirement already satisfied: numpy<2.0,>=1.16.0 in /usr/local/lib/python3.6/dist-packages (from tensorflow-gpu==1.15) (1.18.4)\n",
      "Requirement already satisfied: wrapt>=1.11.1 in /usr/local/lib/python3.6/dist-packages (from tensorflow-gpu==1.15) (1.12.1)\n",
      "Requirement already satisfied: keras-preprocessing>=1.0.5 in /usr/local/lib/python3.6/dist-packages (from tensorflow-gpu==1.15) (1.1.2)\n",
      "Collecting gast==0.2.2\n",
      "  Downloading https://files.pythonhosted.org/packages/4e/35/11749bf99b2d4e3cceb4d55ca22590b0d7c2c62b9de38ac4a4a7f4687421/gast-0.2.2.tar.gz\n",
      "Requirement already satisfied: grpcio>=1.8.6 in /usr/local/lib/python3.6/dist-packages (from tensorflow-gpu==1.15) (1.29.0)\n",
      "Requirement already satisfied: absl-py>=0.7.0 in /usr/local/lib/python3.6/dist-packages (from tensorflow-gpu==1.15) (0.9.0)\n",
      "Requirement already satisfied: werkzeug>=0.11.15 in /usr/local/lib/python3.6/dist-packages (from tensorboard<1.16.0,>=1.15.0->tensorflow-gpu==1.15) (1.0.1)\n",
      "Requirement already satisfied: markdown>=2.6.8 in /usr/local/lib/python3.6/dist-packages (from tensorboard<1.16.0,>=1.15.0->tensorflow-gpu==1.15) (3.2.2)\n",
      "Requirement already satisfied: setuptools>=41.0.0 in /usr/local/lib/python3.6/dist-packages (from tensorboard<1.16.0,>=1.15.0->tensorflow-gpu==1.15) (46.3.0)\n",
      "Requirement already satisfied: h5py in /usr/local/lib/python3.6/dist-packages (from keras-applications>=1.0.8->tensorflow-gpu==1.15) (2.10.0)\n",
      "Requirement already satisfied: importlib-metadata; python_version < \"3.8\" in /usr/local/lib/python3.6/dist-packages (from markdown>=2.6.8->tensorboard<1.16.0,>=1.15.0->tensorflow-gpu==1.15) (1.6.0)\n",
      "Requirement already satisfied: zipp>=0.5 in /usr/local/lib/python3.6/dist-packages (from importlib-metadata; python_version < \"3.8\"->markdown>=2.6.8->tensorboard<1.16.0,>=1.15.0->tensorflow-gpu==1.15) (3.1.0)\n",
      "Building wheels for collected packages: gast\n",
      "  Building wheel for gast (setup.py) ... \u001b[?25l\u001b[?25hdone\n",
      "  Created wheel for gast: filename=gast-0.2.2-cp36-none-any.whl size=7540 sha256=bb5392137132ea3662f30b0796bb32768d2dfe7bda01b7074a412aa8e778a0ab\n",
      "  Stored in directory: /root/.cache/pip/wheels/5c/2e/7e/a1d4d4fcebe6c381f378ce7743a3ced3699feb89bcfbdadadd\n",
      "Successfully built gast\n",
      "\u001b[31mERROR: tensorflow-probability 0.10.0 has requirement gast>=0.3.2, but you'll have gast 0.2.2 which is incompatible.\u001b[0m\n",
      "Installing collected packages: tensorboard, tensorflow-estimator, gast, tensorflow-gpu\n",
      "  Found existing installation: tensorboard 2.2.1\n",
      "    Uninstalling tensorboard-2.2.1:\n",
      "      Successfully uninstalled tensorboard-2.2.1\n",
      "  Found existing installation: tensorflow-estimator 2.2.0\n",
      "    Uninstalling tensorflow-estimator-2.2.0:\n",
      "      Successfully uninstalled tensorflow-estimator-2.2.0\n",
      "  Found existing installation: gast 0.3.3\n",
      "    Uninstalling gast-0.3.3:\n",
      "      Successfully uninstalled gast-0.3.3\n",
      "Successfully installed gast-0.2.2 tensorboard-1.15.0 tensorflow-estimator-1.15.1 tensorflow-gpu-1.15.0\n"
     ]
    },
    {
     "data": {
      "application/vnd.colab-display-data+json": {
       "pip_warning": {
        "packages": [
         "gast",
         "tensorboard",
         "tensorflow"
        ]
       }
      }
     },
     "metadata": {
      "tags": []
     },
     "output_type": "display_data"
    }
   ],
   "source": [
    "!pip install tensorflow-gpu==1.15"
   ]
  },
  {
   "cell_type": "code",
   "execution_count": 0,
   "metadata": {
    "colab": {},
    "colab_type": "code",
    "id": "XQcq7zJ4cgf_"
   },
   "outputs": [],
   "source": [
    "import tensorflow as tf"
   ]
  },
  {
   "cell_type": "code",
   "execution_count": 0,
   "metadata": {
    "colab": {
     "base_uri": "https://localhost:8080/",
     "height": 34
    },
    "colab_type": "code",
    "executionInfo": {
     "elapsed": 66181,
     "status": "ok",
     "timestamp": 1590001322176,
     "user": {
      "displayName": "Tulio Souza",
      "photoUrl": "https://lh3.googleusercontent.com/a-/AOh14GipEnrWu7E_9FYZPQv76QUWcv0HJUgE5zZFIPWJ=s64",
      "userId": "10580357254127821833"
     },
     "user_tz": 180
    },
    "id": "IKzynmqddNBO",
    "outputId": "74a3390e-ffd5-4f13-a7c8-94409d0334be"
   },
   "outputs": [
    {
     "data": {
      "text/plain": [
       "'1.15.0'"
      ]
     },
     "execution_count": 4,
     "metadata": {
      "tags": []
     },
     "output_type": "execute_result"
    }
   ],
   "source": [
    "tf.__version__"
   ]
  },
  {
   "cell_type": "markdown",
   "metadata": {
    "colab_type": "text",
    "id": "kyvi9fbgfNXO"
   },
   "source": [
    "### Constants"
   ]
  },
  {
   "cell_type": "markdown",
   "metadata": {
    "colab_type": "text",
    "id": "tSSEoeadsbn5"
   },
   "source": [
    "#### Defining a constant"
   ]
  },
  {
   "cell_type": "code",
   "execution_count": 0,
   "metadata": {
    "colab": {},
    "colab_type": "code",
    "id": "UCnWxoK3e1rm"
   },
   "outputs": [],
   "source": [
    "# Defining a constant using tf\n",
    "tensor = tf.constant([[23, 4], [32, 51]])"
   ]
  },
  {
   "cell_type": "code",
   "execution_count": 0,
   "metadata": {
    "colab": {
     "base_uri": "https://localhost:8080/",
     "height": 34
    },
    "colab_type": "code",
    "executionInfo": {
     "elapsed": 568,
     "status": "ok",
     "timestamp": 1590001353855,
     "user": {
      "displayName": "Tulio Souza",
      "photoUrl": "https://lh3.googleusercontent.com/a-/AOh14GipEnrWu7E_9FYZPQv76QUWcv0HJUgE5zZFIPWJ=s64",
      "userId": "10580357254127821833"
     },
     "user_tz": 180
    },
    "id": "_6YBDabufXO1",
    "outputId": "d17aebfb-6e41-4696-f338-010a9e10ce72"
   },
   "outputs": [
    {
     "data": {
      "text/plain": [
       "<tf.Tensor 'Const:0' shape=(2, 2) dtype=int32>"
      ]
     },
     "execution_count": 6,
     "metadata": {
      "tags": []
     },
     "output_type": "execute_result"
    }
   ],
   "source": [
    "tensor"
   ]
  },
  {
   "cell_type": "code",
   "execution_count": 0,
   "metadata": {
    "colab": {
     "base_uri": "https://localhost:8080/",
     "height": 324
    },
    "colab_type": "code",
    "executionInfo": {
     "elapsed": 2254,
     "status": "error",
     "timestamp": 1590001359167,
     "user": {
      "displayName": "Tulio Souza",
      "photoUrl": "https://lh3.googleusercontent.com/a-/AOh14GipEnrWu7E_9FYZPQv76QUWcv0HJUgE5zZFIPWJ=s64",
      "userId": "10580357254127821833"
     },
     "user_tz": 180
    },
    "id": "RdNftutxfZ5N",
    "outputId": "4c0ba92b-3a58-4edf-fa0b-433bed34446d"
   },
   "outputs": [
    {
     "ename": "ValueError",
     "evalue": "ignored",
     "output_type": "error",
     "traceback": [
      "\u001b[0;31m---------------------------------------------------------------------------\u001b[0m",
      "\u001b[0;31mValueError\u001b[0m                                Traceback (most recent call last)",
      "\u001b[0;32m<ipython-input-7-2b62ea6c9850>\u001b[0m in \u001b[0;36m<module>\u001b[0;34m()\u001b[0m\n\u001b[1;32m      1\u001b[0m \u001b[0;31m# Se uma sessão não for inicializada, não podemos acessar os valores da constante\u001b[0m\u001b[0;34m\u001b[0m\u001b[0;34m\u001b[0m\u001b[0;34m\u001b[0m\u001b[0m\n\u001b[0;32m----> 2\u001b[0;31m \u001b[0mtensor\u001b[0m\u001b[0;34m.\u001b[0m\u001b[0meval\u001b[0m\u001b[0;34m(\u001b[0m\u001b[0;34m)\u001b[0m\u001b[0;34m\u001b[0m\u001b[0;34m\u001b[0m\u001b[0m\n\u001b[0m",
      "\u001b[0;32m/usr/local/lib/python3.6/dist-packages/tensorflow_core/python/framework/ops.py\u001b[0m in \u001b[0;36meval\u001b[0;34m(self, feed_dict, session)\u001b[0m\n\u001b[1;32m    796\u001b[0m \u001b[0;34m\u001b[0m\u001b[0m\n\u001b[1;32m    797\u001b[0m     \"\"\"\n\u001b[0;32m--> 798\u001b[0;31m     \u001b[0;32mreturn\u001b[0m \u001b[0m_eval_using_default_session\u001b[0m\u001b[0;34m(\u001b[0m\u001b[0mself\u001b[0m\u001b[0;34m,\u001b[0m \u001b[0mfeed_dict\u001b[0m\u001b[0;34m,\u001b[0m \u001b[0mself\u001b[0m\u001b[0;34m.\u001b[0m\u001b[0mgraph\u001b[0m\u001b[0;34m,\u001b[0m \u001b[0msession\u001b[0m\u001b[0;34m)\u001b[0m\u001b[0;34m\u001b[0m\u001b[0;34m\u001b[0m\u001b[0m\n\u001b[0m\u001b[1;32m    799\u001b[0m \u001b[0;34m\u001b[0m\u001b[0m\n\u001b[1;32m    800\u001b[0m   \u001b[0;32mdef\u001b[0m \u001b[0mexperimental_ref\u001b[0m\u001b[0;34m(\u001b[0m\u001b[0mself\u001b[0m\u001b[0;34m)\u001b[0m\u001b[0;34m:\u001b[0m\u001b[0;34m\u001b[0m\u001b[0;34m\u001b[0m\u001b[0m\n",
      "\u001b[0;32m/usr/local/lib/python3.6/dist-packages/tensorflow_core/python/framework/ops.py\u001b[0m in \u001b[0;36m_eval_using_default_session\u001b[0;34m(tensors, feed_dict, graph, session)\u001b[0m\n\u001b[1;32m   5391\u001b[0m     \u001b[0msession\u001b[0m \u001b[0;34m=\u001b[0m \u001b[0mget_default_session\u001b[0m\u001b[0;34m(\u001b[0m\u001b[0;34m)\u001b[0m\u001b[0;34m\u001b[0m\u001b[0;34m\u001b[0m\u001b[0m\n\u001b[1;32m   5392\u001b[0m     \u001b[0;32mif\u001b[0m \u001b[0msession\u001b[0m \u001b[0;32mis\u001b[0m \u001b[0;32mNone\u001b[0m\u001b[0;34m:\u001b[0m\u001b[0;34m\u001b[0m\u001b[0;34m\u001b[0m\u001b[0m\n\u001b[0;32m-> 5393\u001b[0;31m       raise ValueError(\"Cannot evaluate tensor using `eval()`: No default \"\n\u001b[0m\u001b[1;32m   5394\u001b[0m                        \u001b[0;34m\"session is registered. Use `with \"\u001b[0m\u001b[0;34m\u001b[0m\u001b[0;34m\u001b[0m\u001b[0m\n\u001b[1;32m   5395\u001b[0m                        \u001b[0;34m\"sess.as_default()` or pass an explicit session to \"\u001b[0m\u001b[0;34m\u001b[0m\u001b[0;34m\u001b[0m\u001b[0m\n",
      "\u001b[0;31mValueError\u001b[0m: Cannot evaluate tensor using `eval()`: No default session is registered. Use `with sess.as_default()` or pass an explicit session to `eval(session=sess)`"
     ]
    }
   ],
   "source": [
    "# If a session were not initializated we cannot access tensor values\n",
    "tensor.eval()"
   ]
  },
  {
   "cell_type": "markdown",
   "metadata": {
    "colab_type": "text",
    "id": "E-VQJUFxf9fU"
   },
   "source": [
    "#### Acessing variables values"
   ]
  },
  {
   "cell_type": "code",
   "execution_count": 0,
   "metadata": {
    "colab": {},
    "colab_type": "code",
    "id": "MlHowT2SgDmt"
   },
   "outputs": [],
   "source": [
    "session = tf.Session()"
   ]
  },
  {
   "cell_type": "code",
   "execution_count": 0,
   "metadata": {
    "colab": {},
    "colab_type": "code",
    "id": "iM9jQMJhgGzi"
   },
   "outputs": [],
   "source": [
    "session.run(tf.global_variables_initializer())"
   ]
  },
  {
   "cell_type": "code",
   "execution_count": 0,
   "metadata": {
    "colab": {},
    "colab_type": "code",
    "id": "Xk-Ng1_0fmeV"
   },
   "outputs": [],
   "source": [
    "tensor_value = session.run(tensor)"
   ]
  },
  {
   "cell_type": "code",
   "execution_count": 0,
   "metadata": {
    "colab": {
     "base_uri": "https://localhost:8080/",
     "height": 51
    },
    "colab_type": "code",
    "executionInfo": {
     "elapsed": 693,
     "status": "ok",
     "timestamp": 1590001381975,
     "user": {
      "displayName": "Tulio Souza",
      "photoUrl": "https://lh3.googleusercontent.com/a-/AOh14GipEnrWu7E_9FYZPQv76QUWcv0HJUgE5zZFIPWJ=s64",
      "userId": "10580357254127821833"
     },
     "user_tz": 180
    },
    "id": "4c_EfA0zgBb9",
    "outputId": "34253bde-ce36-45eb-b1f5-223d5d681ae2"
   },
   "outputs": [
    {
     "data": {
      "text/plain": [
       "array([[23,  4],\n",
       "       [32, 51]], dtype=int32)"
      ]
     },
     "execution_count": 11,
     "metadata": {
      "tags": []
     },
     "output_type": "execute_result"
    }
   ],
   "source": [
    "tensor_value"
   ]
  },
  {
   "cell_type": "markdown",
   "metadata": {
    "colab_type": "text",
    "id": "UAE50vlcdasP"
   },
   "source": [
    "### Variables"
   ]
  },
  {
   "cell_type": "markdown",
   "metadata": {
    "colab_type": "text",
    "id": "-C8yhSZksm1R"
   },
   "source": [
    "#### Defining a variable"
   ]
  },
  {
   "cell_type": "code",
   "execution_count": 0,
   "metadata": {
    "colab": {},
    "colab_type": "code",
    "id": "Tex4Ud2JdOe9"
   },
   "outputs": [],
   "source": [
    "# Defining a variable on TensorFlow\n",
    "variable = tf.Variable([[30, 20], [10, 45]])"
   ]
  },
  {
   "cell_type": "code",
   "execution_count": 0,
   "metadata": {
    "colab": {
     "base_uri": "https://localhost:8080/",
     "height": 34
    },
    "colab_type": "code",
    "executionInfo": {
     "elapsed": 739,
     "status": "ok",
     "timestamp": 1589893002439,
     "user": {
      "displayName": "Tulio Souza",
      "photoUrl": "https://lh3.googleusercontent.com/a-/AOh14GipEnrWu7E_9FYZPQv76QUWcv0HJUgE5zZFIPWJ=s64",
      "userId": "10580357254127821833"
     },
     "user_tz": 180
    },
    "id": "YMco0fladtkt",
    "outputId": "a3b38962-4f0e-4286-c580-38abd5df4851"
   },
   "outputs": [
    {
     "data": {
      "text/plain": [
       "<tf.Variable 'Variable:0' shape=(2, 2) dtype=int32_ref>"
      ]
     },
     "execution_count": 13,
     "metadata": {
      "tags": []
     },
     "output_type": "execute_result"
    }
   ],
   "source": [
    "variable"
   ]
  },
  {
   "cell_type": "code",
   "execution_count": 0,
   "metadata": {
    "colab": {
     "base_uri": "https://localhost:8080/",
     "height": 324
    },
    "colab_type": "code",
    "executionInfo": {
     "elapsed": 581,
     "status": "error",
     "timestamp": 1589893003460,
     "user": {
      "displayName": "Tulio Souza",
      "photoUrl": "https://lh3.googleusercontent.com/a-/AOh14GipEnrWu7E_9FYZPQv76QUWcv0HJUgE5zZFIPWJ=s64",
      "userId": "10580357254127821833"
     },
     "user_tz": 180
    },
    "id": "OAZRkgwed9X-",
    "outputId": "99689107-cd5d-4e08-f5bc-a319c101de8c"
   },
   "outputs": [
    {
     "ename": "ValueError",
     "evalue": "ignored",
     "output_type": "error",
     "traceback": [
      "\u001b[0;31m---------------------------------------------------------------------------\u001b[0m",
      "\u001b[0;31mValueError\u001b[0m                                Traceback (most recent call last)",
      "\u001b[0;32m<ipython-input-14-dfddea4f659a>\u001b[0m in \u001b[0;36m<module>\u001b[0;34m()\u001b[0m\n\u001b[1;32m      1\u001b[0m \u001b[0;31m# Se uma sessão na for inicializada, não podemos acessar os valores das variáveis\u001b[0m\u001b[0;34m\u001b[0m\u001b[0;34m\u001b[0m\u001b[0;34m\u001b[0m\u001b[0m\n\u001b[0;32m----> 2\u001b[0;31m \u001b[0mvariable\u001b[0m\u001b[0;34m.\u001b[0m\u001b[0meval\u001b[0m\u001b[0;34m(\u001b[0m\u001b[0;34m)\u001b[0m\u001b[0;34m\u001b[0m\u001b[0;34m\u001b[0m\u001b[0m\n\u001b[0m",
      "\u001b[0;32m/usr/local/lib/python3.6/dist-packages/tensorflow_core/python/ops/variables.py\u001b[0m in \u001b[0;36meval\u001b[0;34m(self, session)\u001b[0m\n\u001b[1;32m   2022\u001b[0m       \u001b[0mA\u001b[0m \u001b[0mnumpy\u001b[0m\u001b[0;31m \u001b[0m\u001b[0;31m`\u001b[0m\u001b[0mndarray\u001b[0m\u001b[0;31m`\u001b[0m \u001b[0;32mwith\u001b[0m \u001b[0ma\u001b[0m \u001b[0mcopy\u001b[0m \u001b[0mof\u001b[0m \u001b[0mthe\u001b[0m \u001b[0mvalue\u001b[0m \u001b[0mof\u001b[0m \u001b[0mthis\u001b[0m \u001b[0mvariable\u001b[0m\u001b[0;34m.\u001b[0m\u001b[0;34m\u001b[0m\u001b[0;34m\u001b[0m\u001b[0m\n\u001b[1;32m   2023\u001b[0m     \"\"\"\n\u001b[0;32m-> 2024\u001b[0;31m     \u001b[0;32mreturn\u001b[0m \u001b[0mself\u001b[0m\u001b[0;34m.\u001b[0m\u001b[0m_variable\u001b[0m\u001b[0;34m.\u001b[0m\u001b[0meval\u001b[0m\u001b[0;34m(\u001b[0m\u001b[0msession\u001b[0m\u001b[0;34m=\u001b[0m\u001b[0msession\u001b[0m\u001b[0;34m)\u001b[0m\u001b[0;34m\u001b[0m\u001b[0;34m\u001b[0m\u001b[0m\n\u001b[0m\u001b[1;32m   2025\u001b[0m \u001b[0;34m\u001b[0m\u001b[0m\n\u001b[1;32m   2026\u001b[0m   \u001b[0;34m@\u001b[0m\u001b[0mproperty\u001b[0m\u001b[0;34m\u001b[0m\u001b[0;34m\u001b[0m\u001b[0m\n",
      "\u001b[0;32m/usr/local/lib/python3.6/dist-packages/tensorflow_core/python/framework/ops.py\u001b[0m in \u001b[0;36meval\u001b[0;34m(self, feed_dict, session)\u001b[0m\n\u001b[1;32m    796\u001b[0m \u001b[0;34m\u001b[0m\u001b[0m\n\u001b[1;32m    797\u001b[0m     \"\"\"\n\u001b[0;32m--> 798\u001b[0;31m     \u001b[0;32mreturn\u001b[0m \u001b[0m_eval_using_default_session\u001b[0m\u001b[0;34m(\u001b[0m\u001b[0mself\u001b[0m\u001b[0;34m,\u001b[0m \u001b[0mfeed_dict\u001b[0m\u001b[0;34m,\u001b[0m \u001b[0mself\u001b[0m\u001b[0;34m.\u001b[0m\u001b[0mgraph\u001b[0m\u001b[0;34m,\u001b[0m \u001b[0msession\u001b[0m\u001b[0;34m)\u001b[0m\u001b[0;34m\u001b[0m\u001b[0;34m\u001b[0m\u001b[0m\n\u001b[0m\u001b[1;32m    799\u001b[0m \u001b[0;34m\u001b[0m\u001b[0m\n\u001b[1;32m    800\u001b[0m   \u001b[0;32mdef\u001b[0m \u001b[0mexperimental_ref\u001b[0m\u001b[0;34m(\u001b[0m\u001b[0mself\u001b[0m\u001b[0;34m)\u001b[0m\u001b[0;34m:\u001b[0m\u001b[0;34m\u001b[0m\u001b[0;34m\u001b[0m\u001b[0m\n",
      "\u001b[0;32m/usr/local/lib/python3.6/dist-packages/tensorflow_core/python/framework/ops.py\u001b[0m in \u001b[0;36m_eval_using_default_session\u001b[0;34m(tensors, feed_dict, graph, session)\u001b[0m\n\u001b[1;32m   5391\u001b[0m     \u001b[0msession\u001b[0m \u001b[0;34m=\u001b[0m \u001b[0mget_default_session\u001b[0m\u001b[0;34m(\u001b[0m\u001b[0;34m)\u001b[0m\u001b[0;34m\u001b[0m\u001b[0;34m\u001b[0m\u001b[0m\n\u001b[1;32m   5392\u001b[0m     \u001b[0;32mif\u001b[0m \u001b[0msession\u001b[0m \u001b[0;32mis\u001b[0m \u001b[0;32mNone\u001b[0m\u001b[0;34m:\u001b[0m\u001b[0;34m\u001b[0m\u001b[0;34m\u001b[0m\u001b[0m\n\u001b[0;32m-> 5393\u001b[0;31m       raise ValueError(\"Cannot evaluate tensor using `eval()`: No default \"\n\u001b[0m\u001b[1;32m   5394\u001b[0m                        \u001b[0;34m\"session is registered. Use `with \"\u001b[0m\u001b[0;34m\u001b[0m\u001b[0;34m\u001b[0m\u001b[0m\n\u001b[1;32m   5395\u001b[0m                        \u001b[0;34m\"sess.as_default()` or pass an explicit session to \"\u001b[0m\u001b[0;34m\u001b[0m\u001b[0;34m\u001b[0m\u001b[0m\n",
      "\u001b[0;31mValueError\u001b[0m: Cannot evaluate tensor using `eval()`: No default session is registered. Use `with sess.as_default()` or pass an explicit session to `eval(session=sess)`"
     ]
    }
   ],
   "source": [
    "# If a session were not iniatilizated we cannot access the variable values\n",
    "variable.eval()"
   ]
  },
  {
   "cell_type": "markdown",
   "metadata": {
    "colab_type": "text",
    "id": "lsguZm4gep9g"
   },
   "source": [
    "#### Acessando os valores de uma variável"
   ]
  },
  {
   "cell_type": "code",
   "execution_count": 0,
   "metadata": {
    "colab": {},
    "colab_type": "code",
    "id": "8Nwg0W4LedDW"
   },
   "outputs": [],
   "source": [
    "# Inicialize a session\n",
    "session = tf.Session()"
   ]
  },
  {
   "cell_type": "code",
   "execution_count": 0,
   "metadata": {
    "colab": {},
    "colab_type": "code",
    "id": "UnPhvNt1eu_e"
   },
   "outputs": [],
   "source": [
    "# Inicializing all variables in a session\n",
    "session.run(tf.global_variables_initializer())"
   ]
  },
  {
   "cell_type": "code",
   "execution_count": 0,
   "metadata": {
    "colab": {
     "base_uri": "https://localhost:8080/",
     "height": 51
    },
    "colab_type": "code",
    "executionInfo": {
     "elapsed": 612,
     "status": "ok",
     "timestamp": 1589893009741,
     "user": {
      "displayName": "Tulio Souza",
      "photoUrl": "https://lh3.googleusercontent.com/a-/AOh14GipEnrWu7E_9FYZPQv76QUWcv0HJUgE5zZFIPWJ=s64",
      "userId": "10580357254127821833"
     },
     "user_tz": 180
    },
    "id": "yMmNCDviex--",
    "outputId": "e9cf7f86-5126-41a4-c2c4-665ae005262a"
   },
   "outputs": [
    {
     "data": {
      "text/plain": [
       "array([[30, 20],\n",
       "       [10, 45]], dtype=int32)"
      ]
     },
     "execution_count": 17,
     "metadata": {
      "tags": []
     },
     "output_type": "execute_result"
    }
   ],
   "source": [
    "# Exectuing a module to acess all values\n",
    "variable.eval(session)"
   ]
  },
  {
   "cell_type": "markdown",
   "metadata": {
    "colab_type": "text",
    "id": "wJ6s9hH5gsvW"
   },
   "source": [
    "## TensorFlow 2.0"
   ]
  },
  {
   "cell_type": "markdown",
   "metadata": {
    "colab_type": "text",
    "id": "Zl7ADLJ_g38A"
   },
   "source": [
    "### Install TensorFlow 2.0"
   ]
  },
  {
   "cell_type": "code",
   "execution_count": 0,
   "metadata": {
    "colab": {
     "base_uri": "https://localhost:8080/",
     "height": 1000
    },
    "colab_type": "code",
    "executionInfo": {
     "elapsed": 53904,
     "status": "ok",
     "timestamp": 1590001461481,
     "user": {
      "displayName": "Tulio Souza",
      "photoUrl": "https://lh3.googleusercontent.com/a-/AOh14GipEnrWu7E_9FYZPQv76QUWcv0HJUgE5zZFIPWJ=s64",
      "userId": "10580357254127821833"
     },
     "user_tz": 180
    },
    "id": "XExgAvb-gkb9",
    "outputId": "eaee4c6f-d593-42ae-f807-7024ac1b7750"
   },
   "outputs": [
    {
     "name": "stdout",
     "output_type": "stream",
     "text": [
      "Collecting tensorflow-gpu==2.0.0\n",
      "\u001b[?25l  Downloading https://files.pythonhosted.org/packages/25/44/47f0722aea081697143fbcf5d2aa60d1aee4aaacb5869aee2b568974777b/tensorflow_gpu-2.0.0-cp36-cp36m-manylinux2010_x86_64.whl (380.8MB)\n",
      "\u001b[K     |████████████████████████████████| 380.8MB 43kB/s \n",
      "\u001b[?25hRequirement already satisfied: wrapt>=1.11.1 in /usr/local/lib/python3.6/dist-packages (from tensorflow-gpu==2.0.0) (1.12.1)\n",
      "Requirement already satisfied: keras-applications>=1.0.8 in /usr/local/lib/python3.6/dist-packages (from tensorflow-gpu==2.0.0) (1.0.8)\n",
      "Requirement already satisfied: grpcio>=1.8.6 in /usr/local/lib/python3.6/dist-packages (from tensorflow-gpu==2.0.0) (1.29.0)\n",
      "Requirement already satisfied: google-pasta>=0.1.6 in /usr/local/lib/python3.6/dist-packages (from tensorflow-gpu==2.0.0) (0.2.0)\n",
      "Requirement already satisfied: wheel>=0.26 in /usr/local/lib/python3.6/dist-packages (from tensorflow-gpu==2.0.0) (0.34.2)\n",
      "Requirement already satisfied: protobuf>=3.6.1 in /usr/local/lib/python3.6/dist-packages (from tensorflow-gpu==2.0.0) (3.10.0)\n",
      "Collecting tensorflow-estimator<2.1.0,>=2.0.0\n",
      "\u001b[?25l  Downloading https://files.pythonhosted.org/packages/fc/08/8b927337b7019c374719145d1dceba21a8bb909b93b1ad6f8fb7d22c1ca1/tensorflow_estimator-2.0.1-py2.py3-none-any.whl (449kB)\n",
      "\u001b[K     |████████████████████████████████| 450kB 46.5MB/s \n",
      "\u001b[?25hRequirement already satisfied: numpy<2.0,>=1.16.0 in /usr/local/lib/python3.6/dist-packages (from tensorflow-gpu==2.0.0) (1.18.4)\n",
      "Requirement already satisfied: absl-py>=0.7.0 in /usr/local/lib/python3.6/dist-packages (from tensorflow-gpu==2.0.0) (0.9.0)\n",
      "Requirement already satisfied: gast==0.2.2 in /usr/local/lib/python3.6/dist-packages (from tensorflow-gpu==2.0.0) (0.2.2)\n",
      "Requirement already satisfied: keras-preprocessing>=1.0.5 in /usr/local/lib/python3.6/dist-packages (from tensorflow-gpu==2.0.0) (1.1.2)\n",
      "Requirement already satisfied: opt-einsum>=2.3.2 in /usr/local/lib/python3.6/dist-packages (from tensorflow-gpu==2.0.0) (3.2.1)\n",
      "Requirement already satisfied: six>=1.10.0 in /usr/local/lib/python3.6/dist-packages (from tensorflow-gpu==2.0.0) (1.12.0)\n",
      "Requirement already satisfied: termcolor>=1.1.0 in /usr/local/lib/python3.6/dist-packages (from tensorflow-gpu==2.0.0) (1.1.0)\n",
      "Collecting tensorboard<2.1.0,>=2.0.0\n",
      "\u001b[?25l  Downloading https://files.pythonhosted.org/packages/76/54/99b9d5d52d5cb732f099baaaf7740403e83fe6b0cedde940fabd2b13d75a/tensorboard-2.0.2-py3-none-any.whl (3.8MB)\n",
      "\u001b[K     |████████████████████████████████| 3.8MB 42.6MB/s \n",
      "\u001b[?25hRequirement already satisfied: astor>=0.6.0 in /usr/local/lib/python3.6/dist-packages (from tensorflow-gpu==2.0.0) (0.8.1)\n",
      "Requirement already satisfied: h5py in /usr/local/lib/python3.6/dist-packages (from keras-applications>=1.0.8->tensorflow-gpu==2.0.0) (2.10.0)\n",
      "Requirement already satisfied: setuptools in /usr/local/lib/python3.6/dist-packages (from protobuf>=3.6.1->tensorflow-gpu==2.0.0) (46.3.0)\n",
      "Requirement already satisfied: werkzeug>=0.11.15 in /usr/local/lib/python3.6/dist-packages (from tensorboard<2.1.0,>=2.0.0->tensorflow-gpu==2.0.0) (1.0.1)\n",
      "Requirement already satisfied: requests<3,>=2.21.0 in /usr/local/lib/python3.6/dist-packages (from tensorboard<2.1.0,>=2.0.0->tensorflow-gpu==2.0.0) (2.23.0)\n",
      "Requirement already satisfied: google-auth-oauthlib<0.5,>=0.4.1 in /usr/local/lib/python3.6/dist-packages (from tensorboard<2.1.0,>=2.0.0->tensorflow-gpu==2.0.0) (0.4.1)\n",
      "Requirement already satisfied: markdown>=2.6.8 in /usr/local/lib/python3.6/dist-packages (from tensorboard<2.1.0,>=2.0.0->tensorflow-gpu==2.0.0) (3.2.2)\n",
      "Requirement already satisfied: google-auth<2,>=1.6.3 in /usr/local/lib/python3.6/dist-packages (from tensorboard<2.1.0,>=2.0.0->tensorflow-gpu==2.0.0) (1.7.2)\n",
      "Requirement already satisfied: idna<3,>=2.5 in /usr/local/lib/python3.6/dist-packages (from requests<3,>=2.21.0->tensorboard<2.1.0,>=2.0.0->tensorflow-gpu==2.0.0) (2.9)\n",
      "Requirement already satisfied: certifi>=2017.4.17 in /usr/local/lib/python3.6/dist-packages (from requests<3,>=2.21.0->tensorboard<2.1.0,>=2.0.0->tensorflow-gpu==2.0.0) (2020.4.5.1)\n",
      "Requirement already satisfied: chardet<4,>=3.0.2 in /usr/local/lib/python3.6/dist-packages (from requests<3,>=2.21.0->tensorboard<2.1.0,>=2.0.0->tensorflow-gpu==2.0.0) (3.0.4)\n",
      "Requirement already satisfied: urllib3!=1.25.0,!=1.25.1,<1.26,>=1.21.1 in /usr/local/lib/python3.6/dist-packages (from requests<3,>=2.21.0->tensorboard<2.1.0,>=2.0.0->tensorflow-gpu==2.0.0) (1.24.3)\n",
      "Requirement already satisfied: requests-oauthlib>=0.7.0 in /usr/local/lib/python3.6/dist-packages (from google-auth-oauthlib<0.5,>=0.4.1->tensorboard<2.1.0,>=2.0.0->tensorflow-gpu==2.0.0) (1.3.0)\n",
      "Requirement already satisfied: importlib-metadata; python_version < \"3.8\" in /usr/local/lib/python3.6/dist-packages (from markdown>=2.6.8->tensorboard<2.1.0,>=2.0.0->tensorflow-gpu==2.0.0) (1.6.0)\n",
      "Requirement already satisfied: cachetools<3.2,>=2.0.0 in /usr/local/lib/python3.6/dist-packages (from google-auth<2,>=1.6.3->tensorboard<2.1.0,>=2.0.0->tensorflow-gpu==2.0.0) (3.1.1)\n",
      "Requirement already satisfied: pyasn1-modules>=0.2.1 in /usr/local/lib/python3.6/dist-packages (from google-auth<2,>=1.6.3->tensorboard<2.1.0,>=2.0.0->tensorflow-gpu==2.0.0) (0.2.8)\n",
      "Requirement already satisfied: rsa<4.1,>=3.1.4 in /usr/local/lib/python3.6/dist-packages (from google-auth<2,>=1.6.3->tensorboard<2.1.0,>=2.0.0->tensorflow-gpu==2.0.0) (4.0)\n",
      "Requirement already satisfied: oauthlib>=3.0.0 in /usr/local/lib/python3.6/dist-packages (from requests-oauthlib>=0.7.0->google-auth-oauthlib<0.5,>=0.4.1->tensorboard<2.1.0,>=2.0.0->tensorflow-gpu==2.0.0) (3.1.0)\n",
      "Requirement already satisfied: zipp>=0.5 in /usr/local/lib/python3.6/dist-packages (from importlib-metadata; python_version < \"3.8\"->markdown>=2.6.8->tensorboard<2.1.0,>=2.0.0->tensorflow-gpu==2.0.0) (3.1.0)\n",
      "Requirement already satisfied: pyasn1<0.5.0,>=0.4.6 in /usr/local/lib/python3.6/dist-packages (from pyasn1-modules>=0.2.1->google-auth<2,>=1.6.3->tensorboard<2.1.0,>=2.0.0->tensorflow-gpu==2.0.0) (0.4.8)\n",
      "Installing collected packages: tensorflow-estimator, tensorboard, tensorflow-gpu\n",
      "  Found existing installation: tensorflow-estimator 1.15.1\n",
      "    Uninstalling tensorflow-estimator-1.15.1:\n",
      "      Successfully uninstalled tensorflow-estimator-1.15.1\n",
      "  Found existing installation: tensorboard 1.15.0\n",
      "    Uninstalling tensorboard-1.15.0:\n",
      "      Successfully uninstalled tensorboard-1.15.0\n",
      "  Found existing installation: tensorflow-gpu 1.15.0\n",
      "    Uninstalling tensorflow-gpu-1.15.0:\n",
      "      Successfully uninstalled tensorflow-gpu-1.15.0\n",
      "Successfully installed tensorboard-2.0.2 tensorflow-estimator-2.0.1 tensorflow-gpu-2.0.0\n"
     ]
    },
    {
     "data": {
      "application/vnd.colab-display-data+json": {
       "pip_warning": {
        "packages": [
         "tensorboard",
         "tensorflow",
         "tensorflow_core",
         "tensorflow_estimator"
        ]
       }
      }
     },
     "metadata": {
      "tags": []
     },
     "output_type": "display_data"
    }
   ],
   "source": [
    "!pip install tensorflow-gpu==2.0.0"
   ]
  },
  {
   "cell_type": "code",
   "execution_count": 0,
   "metadata": {
    "colab": {},
    "colab_type": "code",
    "id": "ZsQVt3TghDWN"
   },
   "outputs": [],
   "source": [
    "import tensorflow as tf\n",
    "import numpy as np"
   ]
  },
  {
   "cell_type": "code",
   "execution_count": 0,
   "metadata": {
    "colab": {
     "base_uri": "https://localhost:8080/",
     "height": 34
    },
    "colab_type": "code",
    "executionInfo": {
     "elapsed": 792,
     "status": "ok",
     "timestamp": 1590062801597,
     "user": {
      "displayName": "Tulio Souza",
      "photoUrl": "https://lh3.googleusercontent.com/a-/AOh14GipEnrWu7E_9FYZPQv76QUWcv0HJUgE5zZFIPWJ=s64",
      "userId": "10580357254127821833"
     },
     "user_tz": 180
    },
    "id": "bjZ7TmxNh3FE",
    "outputId": "28d1beb6-90d9-49ca-b4e9-034b398f2163"
   },
   "outputs": [
    {
     "data": {
      "text/plain": [
       "'2.2.0'"
      ]
     },
     "execution_count": 3,
     "metadata": {
      "tags": []
     },
     "output_type": "execute_result"
    }
   ],
   "source": [
    "tf.__version__"
   ]
  },
  {
   "cell_type": "markdown",
   "metadata": {
    "colab_type": "text",
    "id": "L3jqjCppiB0x"
   },
   "source": [
    "### Constants"
   ]
  },
  {
   "cell_type": "markdown",
   "metadata": {
    "colab_type": "text",
    "id": "F58hfumftBPK"
   },
   "source": [
    "#### Defining a constant"
   ]
  },
  {
   "cell_type": "code",
   "execution_count": 0,
   "metadata": {
    "colab": {},
    "colab_type": "code",
    "id": "EL_NS0EDh4U2"
   },
   "outputs": [],
   "source": [
    "# Defining a constant on TensorFlow 2.0\n",
    "tensor_20 = tf.constant([[23, 4], [32, 51]])"
   ]
  },
  {
   "cell_type": "code",
   "execution_count": 0,
   "metadata": {
    "colab": {
     "base_uri": "https://localhost:8080/",
     "height": 68
    },
    "colab_type": "code",
    "executionInfo": {
     "elapsed": 532,
     "status": "ok",
     "timestamp": 1590001486613,
     "user": {
      "displayName": "Tulio Souza",
      "photoUrl": "https://lh3.googleusercontent.com/a-/AOh14GipEnrWu7E_9FYZPQv76QUWcv0HJUgE5zZFIPWJ=s64",
      "userId": "10580357254127821833"
     },
     "user_tz": 180
    },
    "id": "zu1SK9N-iLj-",
    "outputId": "c5f7e0f4-1a26-46e2-ef7d-0f0f6e931ff2"
   },
   "outputs": [
    {
     "data": {
      "text/plain": [
       "<tf.Tensor: id=0, shape=(2, 2), dtype=int32, numpy=\n",
       "array([[23,  4],\n",
       "       [32, 51]], dtype=int32)>"
      ]
     },
     "execution_count": 4,
     "metadata": {
      "tags": []
     },
     "output_type": "execute_result"
    }
   ],
   "source": [
    "tensor_20"
   ]
  },
  {
   "cell_type": "code",
   "execution_count": 0,
   "metadata": {
    "colab": {
     "base_uri": "https://localhost:8080/",
     "height": 34
    },
    "colab_type": "code",
    "executionInfo": {
     "elapsed": 750,
     "status": "ok",
     "timestamp": 1590001489875,
     "user": {
      "displayName": "Tulio Souza",
      "photoUrl": "https://lh3.googleusercontent.com/a-/AOh14GipEnrWu7E_9FYZPQv76QUWcv0HJUgE5zZFIPWJ=s64",
      "userId": "10580357254127821833"
     },
     "user_tz": 180
    },
    "id": "Pi1hQ7VYiNoP",
    "outputId": "9b334309-a766-4af4-a7ad-00c55296cab0"
   },
   "outputs": [
    {
     "data": {
      "text/plain": [
       "TensorShape([2, 2])"
      ]
     },
     "execution_count": 5,
     "metadata": {
      "tags": []
     },
     "output_type": "execute_result"
    }
   ],
   "source": [
    "# Acessin Tensor Dimensions\n",
    "tensor_20.shape"
   ]
  },
  {
   "cell_type": "markdown",
   "metadata": {
    "colab_type": "text",
    "id": "KfR8I7EOituB"
   },
   "source": [
    "#### Acessing constants values"
   ]
  },
  {
   "cell_type": "code",
   "execution_count": 0,
   "metadata": {
    "colab": {
     "base_uri": "https://localhost:8080/",
     "height": 51
    },
    "colab_type": "code",
    "executionInfo": {
     "elapsed": 600,
     "status": "ok",
     "timestamp": 1590001495488,
     "user": {
      "displayName": "Tulio Souza",
      "photoUrl": "https://lh3.googleusercontent.com/a-/AOh14GipEnrWu7E_9FYZPQv76QUWcv0HJUgE5zZFIPWJ=s64",
      "userId": "10580357254127821833"
     },
     "user_tz": 180
    },
    "id": "C1mt_C-7iV3l",
    "outputId": "ac45f983-de19-4a5b-8a18-9ad47adc9a2d"
   },
   "outputs": [
    {
     "data": {
      "text/plain": [
       "array([[23,  4],\n",
       "       [32, 51]], dtype=int32)"
      ]
     },
     "execution_count": 6,
     "metadata": {
      "tags": []
     },
     "output_type": "execute_result"
    }
   ],
   "source": [
    "# Use numpy without inicialize a session\n",
    "tensor_20.numpy()"
   ]
  },
  {
   "cell_type": "code",
   "execution_count": 0,
   "metadata": {
    "colab": {},
    "colab_type": "code",
    "id": "4yu4Rvo2igb2"
   },
   "outputs": [],
   "source": [
    "# Convert an array to Tensor\n",
    "numpy_tensor = np.array([[23,  4], [32, 51]])"
   ]
  },
  {
   "cell_type": "code",
   "execution_count": 0,
   "metadata": {
    "colab": {},
    "colab_type": "code",
    "id": "3uLZ7XAYjOO2"
   },
   "outputs": [],
   "source": [
    "tensor_from_numpy = tf.constant(numpy_tensor)"
   ]
  },
  {
   "cell_type": "code",
   "execution_count": 0,
   "metadata": {
    "colab": {
     "base_uri": "https://localhost:8080/",
     "height": 68
    },
    "colab_type": "code",
    "executionInfo": {
     "elapsed": 741,
     "status": "ok",
     "timestamp": 1590001531519,
     "user": {
      "displayName": "Tulio Souza",
      "photoUrl": "https://lh3.googleusercontent.com/a-/AOh14GipEnrWu7E_9FYZPQv76QUWcv0HJUgE5zZFIPWJ=s64",
      "userId": "10580357254127821833"
     },
     "user_tz": 180
    },
    "id": "ltsz-6FrjWDE",
    "outputId": "c46aba3a-81a9-4252-ac37-a3022d2f9899"
   },
   "outputs": [
    {
     "data": {
      "text/plain": [
       "<tf.Tensor: id=1, shape=(2, 2), dtype=int64, numpy=\n",
       "array([[23,  4],\n",
       "       [32, 51]])>"
      ]
     },
     "execution_count": 10,
     "metadata": {
      "tags": []
     },
     "output_type": "execute_result"
    }
   ],
   "source": [
    "tensor_from_numpy"
   ]
  },
  {
   "cell_type": "markdown",
   "metadata": {
    "colab_type": "text",
    "id": "uq-atYpaV2mB"
   },
   "source": [
    "### Variables"
   ]
  },
  {
   "cell_type": "markdown",
   "metadata": {
    "colab_type": "text",
    "id": "SzoCDLwlt8V-"
   },
   "source": [
    "#### Defining a variable"
   ]
  },
  {
   "cell_type": "code",
   "execution_count": 0,
   "metadata": {
    "colab": {
     "base_uri": "https://localhost:8080/",
     "height": 68
    },
    "colab_type": "code",
    "executionInfo": {
     "elapsed": 690,
     "status": "ok",
     "timestamp": 1590001604815,
     "user": {
      "displayName": "Tulio Souza",
      "photoUrl": "https://lh3.googleusercontent.com/a-/AOh14GipEnrWu7E_9FYZPQv76QUWcv0HJUgE5zZFIPWJ=s64",
      "userId": "10580357254127821833"
     },
     "user_tz": 180
    },
    "id": "INUlB5zoIB90",
    "outputId": "832a6325-0136-452e-e0db-5be4751a89d8"
   },
   "outputs": [
    {
     "data": {
      "text/plain": [
       "<tf.Variable 'Variable:0' shape=(2, 3) dtype=float32, numpy=\n",
       "array([[1., 2., 3.],\n",
       "       [4., 5., 6.]], dtype=float32)>"
      ]
     },
     "execution_count": 11,
     "metadata": {
      "tags": []
     },
     "output_type": "execute_result"
    }
   ],
   "source": [
    "tf2_variable = tf.Variable([[1., 2., 3.], [4., 5., 6.]])\n",
    "tf2_variable"
   ]
  },
  {
   "cell_type": "markdown",
   "metadata": {
    "colab_type": "text",
    "id": "Oqi-QOsMWo7F"
   },
   "source": [
    "#### Acessing values of a variable"
   ]
  },
  {
   "cell_type": "code",
   "execution_count": 0,
   "metadata": {
    "colab": {
     "base_uri": "https://localhost:8080/",
     "height": 51
    },
    "colab_type": "code",
    "executionInfo": {
     "elapsed": 708,
     "status": "ok",
     "timestamp": 1590001610985,
     "user": {
      "displayName": "Tulio Souza",
      "photoUrl": "https://lh3.googleusercontent.com/a-/AOh14GipEnrWu7E_9FYZPQv76QUWcv0HJUgE5zZFIPWJ=s64",
      "userId": "10580357254127821833"
     },
     "user_tz": 180
    },
    "id": "pCQr70r1IhLF",
    "outputId": "f2c6a85e-59f7-4944-d1d4-5801eb363a4d"
   },
   "outputs": [
    {
     "data": {
      "text/plain": [
       "array([[1., 2., 3.],\n",
       "       [4., 5., 6.]], dtype=float32)"
      ]
     },
     "execution_count": 12,
     "metadata": {
      "tags": []
     },
     "output_type": "execute_result"
    }
   ],
   "source": [
    "tf2_variable.numpy()"
   ]
  },
  {
   "cell_type": "markdown",
   "metadata": {
    "colab_type": "text",
    "id": "Ka8Tpnk_WvET"
   },
   "source": [
    "#### Changing a value in a variable"
   ]
  },
  {
   "cell_type": "code",
   "execution_count": 0,
   "metadata": {
    "colab": {
     "base_uri": "https://localhost:8080/",
     "height": 68
    },
    "colab_type": "code",
    "executionInfo": {
     "elapsed": 672,
     "status": "ok",
     "timestamp": 1590001617658,
     "user": {
      "displayName": "Tulio Souza",
      "photoUrl": "https://lh3.googleusercontent.com/a-/AOh14GipEnrWu7E_9FYZPQv76QUWcv0HJUgE5zZFIPWJ=s64",
      "userId": "10580357254127821833"
     },
     "user_tz": 180
    },
    "id": "23OsvfbXWtel",
    "outputId": "d90b153f-2446-4208-8dcf-dbf30ecb07ee"
   },
   "outputs": [
    {
     "data": {
      "text/plain": [
       "<tf.Variable 'UnreadVariable' shape=(2, 3) dtype=float32, numpy=\n",
       "array([[  1.,   2., 100.],\n",
       "       [  4.,   5.,   6.]], dtype=float32)>"
      ]
     },
     "execution_count": 13,
     "metadata": {
      "tags": []
     },
     "output_type": "execute_result"
    }
   ],
   "source": [
    "tf2_variable[0, 2].assign(100)"
   ]
  },
  {
   "cell_type": "code",
   "execution_count": 0,
   "metadata": {
    "colab": {
     "base_uri": "https://localhost:8080/",
     "height": 68
    },
    "colab_type": "code",
    "executionInfo": {
     "elapsed": 888,
     "status": "ok",
     "timestamp": 1590001620182,
     "user": {
      "displayName": "Tulio Souza",
      "photoUrl": "https://lh3.googleusercontent.com/a-/AOh14GipEnrWu7E_9FYZPQv76QUWcv0HJUgE5zZFIPWJ=s64",
      "userId": "10580357254127821833"
     },
     "user_tz": 180
    },
    "id": "cSj0YvJkXZu8",
    "outputId": "d1fdd4b8-d252-407a-d40a-a2530b13e185"
   },
   "outputs": [
    {
     "data": {
      "text/plain": [
       "<tf.Variable 'Variable:0' shape=(2, 3) dtype=float32, numpy=\n",
       "array([[  1.,   2., 100.],\n",
       "       [  4.,   5.,   6.]], dtype=float32)>"
      ]
     },
     "execution_count": 14,
     "metadata": {
      "tags": []
     },
     "output_type": "execute_result"
    }
   ],
   "source": [
    "tf2_variable"
   ]
  },
  {
   "cell_type": "markdown",
   "metadata": {
    "colab_type": "text",
    "id": "QdbG1kvXD2O-"
   },
   "source": [
    "### Math operations with tensor"
   ]
  },
  {
   "cell_type": "code",
   "execution_count": 0,
   "metadata": {
    "colab": {
     "base_uri": "https://localhost:8080/",
     "height": 68
    },
    "colab_type": "code",
    "executionInfo": {
     "elapsed": 751,
     "status": "ok",
     "timestamp": 1590001628658,
     "user": {
      "displayName": "Tulio Souza",
      "photoUrl": "https://lh3.googleusercontent.com/a-/AOh14GipEnrWu7E_9FYZPQv76QUWcv0HJUgE5zZFIPWJ=s64",
      "userId": "10580357254127821833"
     },
     "user_tz": 180
    },
    "id": "M8TE6VvuFDXd",
    "outputId": "3c134deb-e172-4220-e2e6-709832f7c869"
   },
   "outputs": [
    {
     "data": {
      "text/plain": [
       "<tf.Tensor: id=20, shape=(2, 2), dtype=int32, numpy=\n",
       "array([[1, 2],\n",
       "       [3, 4]], dtype=int32)>"
      ]
     },
     "execution_count": 15,
     "metadata": {
      "tags": []
     },
     "output_type": "execute_result"
    }
   ],
   "source": [
    "tensor = tf.constant([[1, 2], [3, 4]])\n",
    "tensor"
   ]
  },
  {
   "cell_type": "markdown",
   "metadata": {
    "colab_type": "text",
    "id": "9AelsMJIFYku"
   },
   "source": [
    "#### Scalar sum\n"
   ]
  },
  {
   "cell_type": "code",
   "execution_count": 0,
   "metadata": {
    "colab": {
     "base_uri": "https://localhost:8080/",
     "height": 68
    },
    "colab_type": "code",
    "executionInfo": {
     "elapsed": 600,
     "status": "ok",
     "timestamp": 1590001629415,
     "user": {
      "displayName": "Tulio Souza",
      "photoUrl": "https://lh3.googleusercontent.com/a-/AOh14GipEnrWu7E_9FYZPQv76QUWcv0HJUgE5zZFIPWJ=s64",
      "userId": "10580357254127821833"
     },
     "user_tz": 180
    },
    "id": "nBHn9DTVjW6s",
    "outputId": "35c3e83f-90bd-4fba-b217-25cc17981b98"
   },
   "outputs": [
    {
     "data": {
      "text/plain": [
       "<tf.Tensor: id=22, shape=(2, 2), dtype=int32, numpy=\n",
       "array([[3, 4],\n",
       "       [5, 6]], dtype=int32)>"
      ]
     },
     "execution_count": 16,
     "metadata": {
      "tags": []
     },
     "output_type": "execute_result"
    }
   ],
   "source": [
    "tensor + 2"
   ]
  },
  {
   "cell_type": "markdown",
   "metadata": {
    "colab_type": "text",
    "id": "oQY7rduwFfEC"
   },
   "source": [
    "#### Multiply a escalar by a tensor"
   ]
  },
  {
   "cell_type": "code",
   "execution_count": 0,
   "metadata": {
    "colab": {
     "base_uri": "https://localhost:8080/",
     "height": 68
    },
    "colab_type": "code",
    "executionInfo": {
     "elapsed": 616,
     "status": "ok",
     "timestamp": 1590001644508,
     "user": {
      "displayName": "Tulio Souza",
      "photoUrl": "https://lh3.googleusercontent.com/a-/AOh14GipEnrWu7E_9FYZPQv76QUWcv0HJUgE5zZFIPWJ=s64",
      "userId": "10580357254127821833"
     },
     "user_tz": 180
    },
    "id": "WZkzLDnVFBZF",
    "outputId": "d1db059a-6b52-4d4f-81ee-8f79c9c7d61d"
   },
   "outputs": [
    {
     "data": {
      "text/plain": [
       "<tf.Tensor: id=24, shape=(2, 2), dtype=int32, numpy=\n",
       "array([[ 5, 10],\n",
       "       [15, 20]], dtype=int32)>"
      ]
     },
     "execution_count": 17,
     "metadata": {
      "tags": []
     },
     "output_type": "execute_result"
    }
   ],
   "source": [
    "tensor * 5"
   ]
  },
  {
   "cell_type": "markdown",
   "metadata": {
    "colab_type": "text",
    "id": "ADQl3o-mFpSz"
   },
   "source": [
    "### Using tensorflow native functions"
   ]
  },
  {
   "cell_type": "code",
   "execution_count": 0,
   "metadata": {
    "colab": {
     "base_uri": "https://localhost:8080/",
     "height": 68
    },
    "colab_type": "code",
    "executionInfo": {
     "elapsed": 752,
     "status": "ok",
     "timestamp": 1589894443898,
     "user": {
      "displayName": "Tulio Souza",
      "photoUrl": "https://lh3.googleusercontent.com/a-/AOh14GipEnrWu7E_9FYZPQv76QUWcv0HJUgE5zZFIPWJ=s64",
      "userId": "10580357254127821833"
     },
     "user_tz": 180
    },
    "id": "TyytJdqaF-mh",
    "outputId": "d1a5703b-e82c-43f7-8220-7edb0431d3f4"
   },
   "outputs": [
    {
     "data": {
      "text/plain": [
       "<tf.Tensor: id=20, shape=(2, 2), dtype=int32, numpy=\n",
       "array([[1, 2],\n",
       "       [3, 4]], dtype=int32)>"
      ]
     },
     "execution_count": 31,
     "metadata": {
      "tags": []
     },
     "output_type": "execute_result"
    }
   ],
   "source": [
    "tensor"
   ]
  },
  {
   "cell_type": "code",
   "execution_count": 0,
   "metadata": {
    "colab": {
     "base_uri": "https://localhost:8080/",
     "height": 68
    },
    "colab_type": "code",
    "executionInfo": {
     "elapsed": 842,
     "status": "ok",
     "timestamp": 1589894449596,
     "user": {
      "displayName": "Tulio Souza",
      "photoUrl": "https://lh3.googleusercontent.com/a-/AOh14GipEnrWu7E_9FYZPQv76QUWcv0HJUgE5zZFIPWJ=s64",
      "userId": "10580357254127821833"
     },
     "user_tz": 180
    },
    "id": "OILuLrDQF_8K",
    "outputId": "65fb5cdd-544a-47fd-9e6a-0f714c957845"
   },
   "outputs": [
    {
     "data": {
      "text/plain": [
       "<tf.Tensor: id=0, shape=(2, 2), dtype=int32, numpy=\n",
       "array([[23,  4],\n",
       "       [32, 51]], dtype=int32)>"
      ]
     },
     "execution_count": 32,
     "metadata": {
      "tags": []
     },
     "output_type": "execute_result"
    }
   ],
   "source": [
    "tensor_20"
   ]
  },
  {
   "cell_type": "code",
   "execution_count": 0,
   "metadata": {
    "colab": {
     "base_uri": "https://localhost:8080/",
     "height": 68
    },
    "colab_type": "code",
    "executionInfo": {
     "elapsed": 537,
     "status": "ok",
     "timestamp": 1589894346336,
     "user": {
      "displayName": "Tulio Souza",
      "photoUrl": "https://lh3.googleusercontent.com/a-/AOh14GipEnrWu7E_9FYZPQv76QUWcv0HJUgE5zZFIPWJ=s64",
      "userId": "10580357254127821833"
     },
     "user_tz": 180
    },
    "id": "htNUSg4DFjnK",
    "outputId": "3fb79951-04a4-4553-a758-fa041852c8f3"
   },
   "outputs": [
    {
     "data": {
      "text/plain": [
       "<tf.Tensor: id=45, shape=(2, 2), dtype=int32, numpy=\n",
       "array([[24,  6],\n",
       "       [35, 55]], dtype=int32)>"
      ]
     },
     "execution_count": 30,
     "metadata": {
      "tags": []
     },
     "output_type": "execute_result"
    }
   ],
   "source": [
    "#Add\n",
    "tf.add (tensor,tensor_20)"
   ]
  },
  {
   "cell_type": "code",
   "execution_count": 0,
   "metadata": {
    "colab": {
     "base_uri": "https://localhost:8080/",
     "height": 68
    },
    "colab_type": "code",
    "executionInfo": {
     "elapsed": 579,
     "status": "ok",
     "timestamp": 1589894489860,
     "user": {
      "displayName": "Tulio Souza",
      "photoUrl": "https://lh3.googleusercontent.com/a-/AOh14GipEnrWu7E_9FYZPQv76QUWcv0HJUgE5zZFIPWJ=s64",
      "userId": "10580357254127821833"
     },
     "user_tz": 180
    },
    "id": "60-gU5DxGEKy",
    "outputId": "7ac685eb-c2e3-4f19-d120-2fcedaf70593"
   },
   "outputs": [
    {
     "data": {
      "text/plain": [
       "<tf.Tensor: id=46, shape=(2, 2), dtype=int32, numpy=\n",
       "array([[-22,  -2],\n",
       "       [-29, -47]], dtype=int32)>"
      ]
     },
     "execution_count": 34,
     "metadata": {
      "tags": []
     },
     "output_type": "execute_result"
    }
   ],
   "source": [
    "#Subtract\n",
    "tf.subtract (tensor, tensor_20)"
   ]
  },
  {
   "cell_type": "code",
   "execution_count": 0,
   "metadata": {
    "colab": {
     "base_uri": "https://localhost:8080/",
     "height": 68
    },
    "colab_type": "code",
    "executionInfo": {
     "elapsed": 643,
     "status": "ok",
     "timestamp": 1590062878293,
     "user": {
      "displayName": "Tulio Souza",
      "photoUrl": "https://lh3.googleusercontent.com/a-/AOh14GipEnrWu7E_9FYZPQv76QUWcv0HJUgE5zZFIPWJ=s64",
      "userId": "10580357254127821833"
     },
     "user_tz": 180
    },
    "id": "8vzFdNEBGL3R",
    "outputId": "fe4d6fe1-9aaa-4a5b-faf7-df41af51b496"
   },
   "outputs": [
    {
     "data": {
      "text/plain": [
       "<tf.Tensor: shape=(2, 2), dtype=int32, numpy=\n",
       "array([[ 529,   16],\n",
       "       [1024, 2601]], dtype=int32)>"
      ]
     },
     "execution_count": 7,
     "metadata": {
      "tags": []
     },
     "output_type": "execute_result"
    }
   ],
   "source": [
    "# Multiply\n",
    "tf.multiply(tensor,tensor_20)"
   ]
  },
  {
   "cell_type": "markdown",
   "metadata": {
    "colab_type": "text",
    "id": "0algGv7HFrUI"
   },
   "source": [
    "#### Usando funções do numpy nos tensores do TensorFlow"
   ]
  },
  {
   "cell_type": "code",
   "execution_count": 0,
   "metadata": {
    "colab": {
     "base_uri": "https://localhost:8080/",
     "height": 51
    },
    "colab_type": "code",
    "executionInfo": {
     "elapsed": 548,
     "status": "ok",
     "timestamp": 1589893217812,
     "user": {
      "displayName": "Tulio Souza",
      "photoUrl": "https://lh3.googleusercontent.com/a-/AOh14GipEnrWu7E_9FYZPQv76QUWcv0HJUgE5zZFIPWJ=s64",
      "userId": "10580357254127821833"
     },
     "user_tz": 180
    },
    "id": "zTeiyc6HFyIs",
    "outputId": "a909194d-ab13-486e-eb41-92624a36ff0a"
   },
   "outputs": [
    {
     "data": {
      "text/plain": [
       "array([[ 1,  4],\n",
       "       [ 9, 16]], dtype=int32)"
      ]
     },
     "execution_count": 18,
     "metadata": {
      "tags": []
     },
     "output_type": "execute_result"
    }
   ],
   "source": [
    "# Squaring\n",
    "np.square(tensor)"
   ]
  },
  {
   "cell_type": "code",
   "execution_count": 0,
   "metadata": {
    "colab": {
     "base_uri": "https://localhost:8080/",
     "height": 51
    },
    "colab_type": "code",
    "executionInfo": {
     "elapsed": 544,
     "status": "ok",
     "timestamp": 1589893219250,
     "user": {
      "displayName": "Tulio Souza",
      "photoUrl": "https://lh3.googleusercontent.com/a-/AOh14GipEnrWu7E_9FYZPQv76QUWcv0HJUgE5zZFIPWJ=s64",
      "userId": "10580357254127821833"
     },
     "user_tz": 180
    },
    "id": "zcR_Z_4vF2wG",
    "outputId": "0abee02a-86f7-47ff-a43c-2ca71bd798d3"
   },
   "outputs": [
    {
     "data": {
      "text/plain": [
       "array([[1.        , 1.41421356],\n",
       "       [1.73205081, 2.        ]])"
      ]
     },
     "execution_count": 19,
     "metadata": {
      "tags": []
     },
     "output_type": "execute_result"
    }
   ],
   "source": [
    "# Squareroot\n",
    "np.sqrt(tensor)"
   ]
  },
  {
   "cell_type": "code",
   "execution_count": 0,
   "metadata": {
    "colab": {
     "base_uri": "https://localhost:8080/",
     "height": 51
    },
    "colab_type": "code",
    "executionInfo": {
     "elapsed": 678,
     "status": "ok",
     "timestamp": 1589894859384,
     "user": {
      "displayName": "Tulio Souza",
      "photoUrl": "https://lh3.googleusercontent.com/a-/AOh14GipEnrWu7E_9FYZPQv76QUWcv0HJUgE5zZFIPWJ=s64",
      "userId": "10580357254127821833"
     },
     "user_tz": 180
    },
    "id": "Vk2hMZKOHiUM",
    "outputId": "19bdf12e-2ee2-4730-f424-b615671b2d8f"
   },
   "outputs": [
    {
     "data": {
      "text/plain": [
       "array([[24,  6],\n",
       "       [35, 55]], dtype=int32)"
      ]
     },
     "execution_count": 41,
     "metadata": {
      "tags": []
     },
     "output_type": "execute_result"
    }
   ],
   "source": [
    "#Add\n",
    "np.add(tensor, tensor_20)"
   ]
  },
  {
   "cell_type": "code",
   "execution_count": 0,
   "metadata": {
    "colab": {
     "base_uri": "https://localhost:8080/",
     "height": 51
    },
    "colab_type": "code",
    "executionInfo": {
     "elapsed": 547,
     "status": "ok",
     "timestamp": 1589894980860,
     "user": {
      "displayName": "Tulio Souza",
      "photoUrl": "https://lh3.googleusercontent.com/a-/AOh14GipEnrWu7E_9FYZPQv76QUWcv0HJUgE5zZFIPWJ=s64",
      "userId": "10580357254127821833"
     },
     "user_tz": 180
    },
    "id": "3UBjSoucHlLM",
    "outputId": "58556d11-4fed-4591-e5af-eab967d0ace1"
   },
   "outputs": [
    {
     "data": {
      "text/plain": [
       "array([[-22,  -2],\n",
       "       [-29, -47]], dtype=int32)"
      ]
     },
     "execution_count": 44,
     "metadata": {
      "tags": []
     },
     "output_type": "execute_result"
    }
   ],
   "source": [
    "#Subtract\n",
    "np.subtract(tensor, tensor_20)"
   ]
  },
  {
   "cell_type": "code",
   "execution_count": 0,
   "metadata": {
    "colab": {
     "base_uri": "https://localhost:8080/",
     "height": 51
    },
    "colab_type": "code",
    "executionInfo": {
     "elapsed": 636,
     "status": "ok",
     "timestamp": 1589895068621,
     "user": {
      "displayName": "Tulio Souza",
      "photoUrl": "https://lh3.googleusercontent.com/a-/AOh14GipEnrWu7E_9FYZPQv76QUWcv0HJUgE5zZFIPWJ=s64",
      "userId": "10580357254127821833"
     },
     "user_tz": 180
    },
    "id": "JsfxWYcVHsRF",
    "outputId": "1d1f1822-3a26-4e79-f0b4-d8e45ee8997d"
   },
   "outputs": [
    {
     "data": {
      "text/plain": [
       "array([[0.04347826, 0.5       ],\n",
       "       [0.09375   , 0.07843137]])"
      ]
     },
     "execution_count": 45,
     "metadata": {
      "tags": []
     },
     "output_type": "execute_result"
    }
   ],
   "source": [
    "#Division\n",
    "np.divide(tensor, tensor_20)"
   ]
  },
  {
   "cell_type": "code",
   "execution_count": 0,
   "metadata": {
    "colab": {
     "base_uri": "https://localhost:8080/",
     "height": 51
    },
    "colab_type": "code",
    "executionInfo": {
     "elapsed": 567,
     "status": "ok",
     "timestamp": 1589895091973,
     "user": {
      "displayName": "Tulio Souza",
      "photoUrl": "https://lh3.googleusercontent.com/a-/AOh14GipEnrWu7E_9FYZPQv76QUWcv0HJUgE5zZFIPWJ=s64",
      "userId": "10580357254127821833"
     },
     "user_tz": 180
    },
    "id": "qXkfONgAIaPF",
    "outputId": "2a633e8f-9f87-4734-de72-b1ad8e0dd4cc"
   },
   "outputs": [
    {
     "data": {
      "text/plain": [
       "array([[ 23,   8],\n",
       "       [ 96, 204]], dtype=int32)"
      ]
     },
     "execution_count": 46,
     "metadata": {
      "tags": []
     },
     "output_type": "execute_result"
    }
   ],
   "source": [
    "#Multiply\n",
    "np.multiply(tensor, tensor_20)"
   ]
  },
  {
   "cell_type": "markdown",
   "metadata": {
    "colab_type": "text",
    "id": "UL--f1anIMRl"
   },
   "source": [
    "#### Dot product "
   ]
  },
  {
   "cell_type": "code",
   "execution_count": 0,
   "metadata": {
    "colab": {
     "base_uri": "https://localhost:8080/",
     "height": 68
    },
    "colab_type": "code",
    "executionInfo": {
     "elapsed": 509,
     "status": "ok",
     "timestamp": 1589893224196,
     "user": {
      "displayName": "Tulio Souza",
      "photoUrl": "https://lh3.googleusercontent.com/a-/AOh14GipEnrWu7E_9FYZPQv76QUWcv0HJUgE5zZFIPWJ=s64",
      "userId": "10580357254127821833"
     },
     "user_tz": 180
    },
    "id": "kblxwMtK2lJp",
    "outputId": "0096507d-e5b6-4fde-ae85-7d1ee34a3997"
   },
   "outputs": [
    {
     "data": {
      "text/plain": [
       "<tf.Tensor: id=20, shape=(2, 2), dtype=int32, numpy=\n",
       "array([[1, 2],\n",
       "       [3, 4]], dtype=int32)>"
      ]
     },
     "execution_count": 20,
     "metadata": {
      "tags": []
     },
     "output_type": "execute_result"
    }
   ],
   "source": [
    "tensor"
   ]
  },
  {
   "cell_type": "code",
   "execution_count": 0,
   "metadata": {
    "colab": {
     "base_uri": "https://localhost:8080/",
     "height": 68
    },
    "colab_type": "code",
    "executionInfo": {
     "elapsed": 533,
     "status": "ok",
     "timestamp": 1589893225272,
     "user": {
      "displayName": "Tulio Souza",
      "photoUrl": "https://lh3.googleusercontent.com/a-/AOh14GipEnrWu7E_9FYZPQv76QUWcv0HJUgE5zZFIPWJ=s64",
      "userId": "10580357254127821833"
     },
     "user_tz": 180
    },
    "id": "9LYxeTRc2twq",
    "outputId": "c186c35c-97fd-46b1-c2d5-abdf27efaccd"
   },
   "outputs": [
    {
     "data": {
      "text/plain": [
       "<tf.Tensor: id=0, shape=(2, 2), dtype=int32, numpy=\n",
       "array([[23,  4],\n",
       "       [32, 51]], dtype=int32)>"
      ]
     },
     "execution_count": 21,
     "metadata": {
      "tags": []
     },
     "output_type": "execute_result"
    }
   ],
   "source": [
    "tensor_20"
   ]
  },
  {
   "cell_type": "code",
   "execution_count": 0,
   "metadata": {
    "colab": {
     "base_uri": "https://localhost:8080/",
     "height": 51
    },
    "colab_type": "code",
    "executionInfo": {
     "elapsed": 631,
     "status": "ok",
     "timestamp": 1590001725093,
     "user": {
      "displayName": "Tulio Souza",
      "photoUrl": "https://lh3.googleusercontent.com/a-/AOh14GipEnrWu7E_9FYZPQv76QUWcv0HJUgE5zZFIPWJ=s64",
      "userId": "10580357254127821833"
     },
     "user_tz": 180
    },
    "id": "6DGgNB--F6Q1",
    "outputId": "ccfb78cd-0df6-4702-8b57-a0efb7af8d4e"
   },
   "outputs": [
    {
     "data": {
      "text/plain": [
       "array([[ 87, 106],\n",
       "       [197, 216]], dtype=int32)"
      ]
     },
     "execution_count": 18,
     "metadata": {
      "tags": []
     },
     "output_type": "execute_result"
    }
   ],
   "source": [
    "np.dot(tensor, tensor_20)"
   ]
  },
  {
   "cell_type": "code",
   "execution_count": 0,
   "metadata": {
    "colab": {
     "base_uri": "https://localhost:8080/",
     "height": 68
    },
    "colab_type": "code",
    "executionInfo": {
     "elapsed": 724,
     "status": "ok",
     "timestamp": 1590001727608,
     "user": {
      "displayName": "Tulio Souza",
      "photoUrl": "https://lh3.googleusercontent.com/a-/AOh14GipEnrWu7E_9FYZPQv76QUWcv0HJUgE5zZFIPWJ=s64",
      "userId": "10580357254127821833"
     },
     "user_tz": 180
    },
    "id": "VaAYSg2gExzw",
    "outputId": "ba8491c2-571e-41eb-e770-049d96a5e0ed"
   },
   "outputs": [
    {
     "data": {
      "text/plain": [
       "<tf.Tensor: id=25, shape=(2, 2), dtype=int32, numpy=\n",
       "array([[24,  6],\n",
       "       [35, 55]], dtype=int32)>"
      ]
     },
     "execution_count": 19,
     "metadata": {
      "tags": []
     },
     "output_type": "execute_result"
    }
   ],
   "source": [
    "tf.add (tensor,tensor_20)"
   ]
  },
  {
   "cell_type": "markdown",
   "metadata": {
    "colab_type": "text",
    "id": "12dtWEKjXl7l"
   },
   "source": [
    "### Strings on TensorFlow 2.0"
   ]
  },
  {
   "cell_type": "code",
   "execution_count": 0,
   "metadata": {
    "colab": {
     "base_uri": "https://localhost:8080/",
     "height": 34
    },
    "colab_type": "code",
    "executionInfo": {
     "elapsed": 744,
     "status": "ok",
     "timestamp": 1590063890573,
     "user": {
      "displayName": "Tulio Souza",
      "photoUrl": "https://lh3.googleusercontent.com/a-/AOh14GipEnrWu7E_9FYZPQv76QUWcv0HJUgE5zZFIPWJ=s64",
      "userId": "10580357254127821833"
     },
     "user_tz": 180
    },
    "id": "fXj_Be2bXgdj",
    "outputId": "ec32314d-50ea-472c-9bee-6c78d237298a"
   },
   "outputs": [
    {
     "data": {
      "text/plain": [
       "<tf.Tensor: shape=(), dtype=string, numpy=b'TensorFlow'>"
      ]
     },
     "execution_count": 8,
     "metadata": {
      "tags": []
     },
     "output_type": "execute_result"
    }
   ],
   "source": [
    "tf_string = tf.constant(\"TensorFlow\")\n",
    "tf_string"
   ]
  },
  {
   "cell_type": "markdown",
   "metadata": {
    "colab_type": "text",
    "id": "R9VXL59XYPDG"
   },
   "source": [
    "#### Operating with strings"
   ]
  },
  {
   "cell_type": "code",
   "execution_count": 0,
   "metadata": {
    "colab": {
     "base_uri": "https://localhost:8080/",
     "height": 34
    },
    "colab_type": "code",
    "executionInfo": {
     "elapsed": 418,
     "status": "ok",
     "timestamp": 1590063890901,
     "user": {
      "displayName": "Tulio Souza",
      "photoUrl": "https://lh3.googleusercontent.com/a-/AOh14GipEnrWu7E_9FYZPQv76QUWcv0HJUgE5zZFIPWJ=s64",
      "userId": "10580357254127821833"
     },
     "user_tz": 180
    },
    "id": "_sIYqcC9YjoS",
    "outputId": "17920b6c-f194-4c98-fd9a-9d7516f0c02f"
   },
   "outputs": [
    {
     "data": {
      "text/plain": [
       "<tf.Tensor: shape=(), dtype=int32, numpy=10>"
      ]
     },
     "execution_count": 9,
     "metadata": {
      "tags": []
     },
     "output_type": "execute_result"
    }
   ],
   "source": [
    "tf.strings.length(tf_string)"
   ]
  },
  {
   "cell_type": "code",
   "execution_count": 0,
   "metadata": {
    "colab": {
     "base_uri": "https://localhost:8080/",
     "height": 34
    },
    "colab_type": "code",
    "executionInfo": {
     "elapsed": 774,
     "status": "ok",
     "timestamp": 1590063892471,
     "user": {
      "displayName": "Tulio Souza",
      "photoUrl": "https://lh3.googleusercontent.com/a-/AOh14GipEnrWu7E_9FYZPQv76QUWcv0HJUgE5zZFIPWJ=s64",
      "userId": "10580357254127821833"
     },
     "user_tz": 180
    },
    "id": "vxQRhILBYmiH",
    "outputId": "066cac8d-c7aa-4e28-d1e9-e07bf6bc3968"
   },
   "outputs": [
    {
     "data": {
      "text/plain": [
       "<tf.Tensor: shape=(10,), dtype=int32, numpy=array([ 84, 101, 110, 115, 111, 114,  70, 108, 111, 119], dtype=int32)>"
      ]
     },
     "execution_count": 10,
     "metadata": {
      "tags": []
     },
     "output_type": "execute_result"
    }
   ],
   "source": [
    "tf.strings.unicode_decode(tf_string, \"UTF8\")"
   ]
  },
  {
   "cell_type": "markdown",
   "metadata": {
    "colab_type": "text",
    "id": "tEjJCCK2ZUzT"
   },
   "source": [
    "#### Storing arrays (vector) of strings"
   ]
  },
  {
   "cell_type": "code",
   "execution_count": 0,
   "metadata": {
    "colab": {},
    "colab_type": "code",
    "id": "YHvHvS0DZakV"
   },
   "outputs": [],
   "source": [
    "tf_string_array = tf.constant([\"TensorFlow\", \"Deep Learning\", \"AI\"])"
   ]
  },
  {
   "cell_type": "code",
   "execution_count": 0,
   "metadata": {
    "colab": {
     "base_uri": "https://localhost:8080/",
     "height": 68
    },
    "colab_type": "code",
    "executionInfo": {
     "elapsed": 904,
     "status": "ok",
     "timestamp": 1590063896392,
     "user": {
      "displayName": "Tulio Souza",
      "photoUrl": "https://lh3.googleusercontent.com/a-/AOh14GipEnrWu7E_9FYZPQv76QUWcv0HJUgE5zZFIPWJ=s64",
      "userId": "10580357254127821833"
     },
     "user_tz": 180
    },
    "id": "wyFS4E9uZh21",
    "outputId": "33e578b9-489e-4356-b4a1-56feaf7ffca7"
   },
   "outputs": [
    {
     "name": "stdout",
     "output_type": "stream",
     "text": [
      "tf.Tensor(b'TensorFlow', shape=(), dtype=string)\n",
      "tf.Tensor(b'Deep Learning', shape=(), dtype=string)\n",
      "tf.Tensor(b'AI', shape=(), dtype=string)\n"
     ]
    }
   ],
   "source": [
    "# Iterating through the TF string array\n",
    "for string in tf_string_array:\n",
    "  print(string)"
   ]
  },
  {
   "cell_type": "code",
   "execution_count": 0,
   "metadata": {
    "colab": {},
    "colab_type": "code",
    "id": "cmcK0EW9MZNz"
   },
   "outputs": [],
   "source": []
  }
 ],
 "metadata": {
  "colab": {
   "collapsed_sections": [],
   "name": "Introduction TensorFlow 2.0.ipynb",
   "provenance": [
    {
     "file_id": "1eEt6hbLXob1u7e4iTuwZzL1X1Yh4KEh6",
     "timestamp": 1589892015112
    },
    {
     "file_id": "1CQmEJihmMrTNfAiMO9QbWQdY4R7gygDo",
     "timestamp": 1568413858894
    },
    {
     "file_id": "1qTw_5Xjs5ZuMwQolBbs-gpd7O3jJZWRv",
     "timestamp": 1558700801322
    }
   ]
  },
  "kernelspec": {
   "display_name": "Python 3",
   "language": "python",
   "name": "python3"
  },
  "language_info": {
   "codemirror_mode": {
    "name": "ipython",
    "version": 3
   },
   "file_extension": ".py",
   "mimetype": "text/x-python",
   "name": "python",
   "nbconvert_exporter": "python",
   "pygments_lexer": "ipython3",
   "version": "3.7.4"
  }
 },
 "nbformat": 4,
 "nbformat_minor": 1
}
